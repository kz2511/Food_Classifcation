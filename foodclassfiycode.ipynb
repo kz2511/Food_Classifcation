{
 "cells": [
  {
   "cell_type": "markdown",
   "id": "20a79f28",
   "metadata": {
    "papermill": {
     "duration": 0.018731,
     "end_time": "2021-10-11T15:47:35.385609",
     "exception": false,
     "start_time": "2021-10-11T15:47:35.366878",
     "status": "completed"
    },
    "tags": []
   },
   "source": [
    "# Import libaries "
   ]
  },
  {
   "cell_type": "code",
   "execution_count": 1,
   "id": "fdfffb35",
   "metadata": {
    "execution": {
     "iopub.execute_input": "2021-10-11T15:47:35.425996Z",
     "iopub.status.busy": "2021-10-11T15:47:35.424929Z",
     "iopub.status.idle": "2021-10-11T15:47:41.594209Z",
     "shell.execute_reply": "2021-10-11T15:47:41.592900Z",
     "shell.execute_reply.started": "2021-10-11T14:53:48.099558Z"
    },
    "papermill": {
     "duration": 6.190091,
     "end_time": "2021-10-11T15:47:41.594400",
     "exception": false,
     "start_time": "2021-10-11T15:47:35.404309",
     "status": "completed"
    },
    "tags": []
   },
   "outputs": [
    {
     "name": "stderr",
     "output_type": "stream",
     "text": [
      "2021-10-11 15:47:36.095968: W tensorflow/stream_executor/platform/default/dso_loader.cc:60] Could not load dynamic library 'libcudart.so.11.0'; dlerror: libcudart.so.11.0: cannot open shared object file: No such file or directory; LD_LIBRARY_PATH: /opt/conda/lib\n",
      "2021-10-11 15:47:36.096202: I tensorflow/stream_executor/cuda/cudart_stub.cc:29] Ignore above cudart dlerror if you do not have a GPU set up on your machine.\n"
     ]
    }
   ],
   "source": [
    "import numpy as np \n",
    "import pandas as pd \n",
    "import os\n",
    "import matplotlib.pyplot as plt\n",
    "import tensorflow as tf\n",
    "\n",
    "from tensorflow.keras.utils import to_categorical\n",
    "from tensorflow.keras.preprocessing.image import load_img, img_to_array\n",
    "from tensorflow.python.keras.preprocessing.image import ImageDataGenerator\n",
    "\n",
    "from sklearn.metrics import classification_report, log_loss, accuracy_score\n",
    "from sklearn.model_selection import train_test_split\n",
    "from tqdm import tqdm"
   ]
  },
  {
   "cell_type": "markdown",
   "id": "bba2a86c",
   "metadata": {
    "papermill": {
     "duration": 0.016995,
     "end_time": "2021-10-11T15:47:41.629650",
     "exception": false,
     "start_time": "2021-10-11T15:47:41.612655",
     "status": "completed"
    },
    "tags": []
   },
   "source": [
    "# Importing Dataset"
   ]
  },
  {
   "cell_type": "code",
   "execution_count": 2,
   "id": "219b8e48",
   "metadata": {
    "execution": {
     "iopub.execute_input": "2021-10-11T15:47:41.669753Z",
     "iopub.status.busy": "2021-10-11T15:47:41.669065Z",
     "iopub.status.idle": "2021-10-11T15:47:41.671299Z",
     "shell.execute_reply": "2021-10-11T15:47:41.671754Z",
     "shell.execute_reply.started": "2021-10-11T14:53:49.977869Z"
    },
    "papermill": {
     "duration": 0.024988,
     "end_time": "2021-10-11T15:47:41.671955",
     "exception": false,
     "start_time": "2021-10-11T15:47:41.646967",
     "status": "completed"
    },
    "tags": []
   },
   "outputs": [],
   "source": [
    "train_dir = '../input/indian-food-images-dataset'"
   ]
  },
  {
   "cell_type": "code",
   "execution_count": 3,
   "id": "4527cb48",
   "metadata": {
    "execution": {
     "iopub.execute_input": "2021-10-11T15:47:41.711395Z",
     "iopub.status.busy": "2021-10-11T15:47:41.710749Z",
     "iopub.status.idle": "2021-10-11T15:47:41.718776Z",
     "shell.execute_reply": "2021-10-11T15:47:41.718094Z",
     "shell.execute_reply.started": "2021-10-11T14:53:50.612189Z"
    },
    "papermill": {
     "duration": 0.029241,
     "end_time": "2021-10-11T15:47:41.718935",
     "exception": false,
     "start_time": "2021-10-11T15:47:41.689694",
     "status": "completed"
    },
    "tags": []
   },
   "outputs": [
    {
     "data": {
      "text/plain": [
       "'../input/indian-food-images-dataset'"
      ]
     },
     "execution_count": 3,
     "metadata": {},
     "output_type": "execute_result"
    }
   ],
   "source": [
    "train_dir"
   ]
  },
  {
   "cell_type": "code",
   "execution_count": 4,
   "id": "fea3f9da",
   "metadata": {
    "execution": {
     "iopub.execute_input": "2021-10-11T15:47:41.762077Z",
     "iopub.status.busy": "2021-10-11T15:47:41.761292Z",
     "iopub.status.idle": "2021-10-11T15:47:41.780096Z",
     "shell.execute_reply": "2021-10-11T15:47:41.780597Z",
     "shell.execute_reply.started": "2021-10-11T14:53:51.602623Z"
    },
    "papermill": {
     "duration": 0.042328,
     "end_time": "2021-10-11T15:47:41.780818",
     "exception": false,
     "start_time": "2021-10-11T15:47:41.738490",
     "status": "completed"
    },
    "tags": []
   },
   "outputs": [
    {
     "name": "stdout",
     "output_type": "stream",
     "text": [
      "['mysore_pak', 'ghevar', 'sohan_papdi', 'ras_malai', 'ariselu', 'kofta', 'aloo_tikki', 'gajar_ka_halwa', 'chhena_kheeri', 'kakinada_khaja', 'lassi', 'naan', 'chak_hao_kheer', 'butter_chicken', 'kajjikaya', 'chicken_razala', 'lyangcha', 'aloo_gobi', 'dal_makhani', 'bandar_laddu', 'bhindi_masala', 'unni_appam', 'kuzhi_paniyaram', 'sandesh', 'sohan_halwa', 'rasgulla', 'shankarpali', 'pithe', 'imarti', 'misti_doi', 'navrattan_korma', 'daal_puri', 'malapua', 'dal_tadka', 'aloo_matar', 'palak_paneer', 'makki_di_roti_sarson_da_saag', 'poornalu', 'chicken_tikka', 'kadhi_pakoda', 'basundi', 'chapati', 'phirni', 'chikki', 'sheera', 'karela_bharta', 'cham_cham', 'shrikhand', 'litti_chokha', 'qubani_ka_meetha', 'jalebi', 'kachori', 'aloo_methi', 'maach_jhol', 'kadai_paneer', 'doodhpak', 'chana_masala', 'boondi', 'misi_roti', 'bhatura', 'chicken_tikka_masala', 'double_ka_meetha', 'kalakand', 'poha', 'adhirasam', 'ledikeni', 'dharwad_pedha', 'dum_aloo', 'sutar_feni', 'gavvalu', 'anarsa', 'rabri', 'daal_baati_churma', 'sheer_korma', 'pootharekulu', 'aloo_shimla_mirch', 'gulab_jamun', 'paneer_butter_masala', 'modak', 'biryani']\n",
      "80\n"
     ]
    }
   ],
   "source": [
    "Name=[]\n",
    "for file in os.listdir(train_dir):\n",
    "    Name+=[file]\n",
    "print(Name)\n",
    "print(len(Name))"
   ]
  },
  {
   "cell_type": "code",
   "execution_count": 5,
   "id": "60c43f50",
   "metadata": {
    "execution": {
     "iopub.execute_input": "2021-10-11T15:47:41.823253Z",
     "iopub.status.busy": "2021-10-11T15:47:41.822586Z",
     "iopub.status.idle": "2021-10-11T15:47:41.825458Z",
     "shell.execute_reply": "2021-10-11T15:47:41.825933Z",
     "shell.execute_reply.started": "2021-10-11T14:53:53.135113Z"
    },
    "papermill": {
     "duration": 0.027234,
     "end_time": "2021-10-11T15:47:41.826115",
     "exception": false,
     "start_time": "2021-10-11T15:47:41.798881",
     "status": "completed"
    },
    "tags": []
   },
   "outputs": [],
   "source": [
    "\n",
    "N=[]\n",
    "for i in range(len(Name)):\n",
    "    N+=[i]\n",
    "    \n",
    "mapping=dict(zip(Name,N)) \n",
    "reverse_mapping=dict(zip(N,Name)) \n",
    "\n",
    "def mapper(value):\n",
    "    return reverse_mapping[value]"
   ]
  },
  {
   "cell_type": "code",
   "execution_count": 6,
   "id": "14b09628",
   "metadata": {
    "execution": {
     "iopub.execute_input": "2021-10-11T15:47:41.871836Z",
     "iopub.status.busy": "2021-10-11T15:47:41.866585Z",
     "iopub.status.idle": "2021-10-11T15:48:45.052933Z",
     "shell.execute_reply": "2021-10-11T15:48:45.053486Z",
     "shell.execute_reply.started": "2021-10-11T14:53:54.473928Z"
    },
    "papermill": {
     "duration": 63.208794,
     "end_time": "2021-10-11T15:48:45.053697",
     "exception": false,
     "start_time": "2021-10-11T15:47:41.844903",
     "status": "completed"
    },
    "tags": []
   },
   "outputs": [
    {
     "name": "stderr",
     "output_type": "stream",
     "text": [
      "100%|██████████| 80/80 [01:03<00:00,  1.27it/s]\n"
     ]
    }
   ],
   "source": [
    "dataset=[]\n",
    "testset=[]\n",
    "count=0\n",
    "for file in tqdm(Name):\n",
    "    t=0\n",
    "    path=os.path.join(train_dir,file)\n",
    "    for im in os.listdir(path):\n",
    "        image=load_img(os.path.join(path,im), grayscale=False, color_mode='rgb', target_size=(40,40))\n",
    "        image=img_to_array(image)\n",
    "        image=image/255.0\n",
    "        if t<40:\n",
    "            dataset+=[[image,count]]\n",
    "        else:\n",
    "            testset+=[[image,count]]\n",
    "        t+=1     \n",
    "    count+=1"
   ]
  },
  {
   "cell_type": "code",
   "execution_count": 7,
   "id": "560448a1",
   "metadata": {
    "execution": {
     "iopub.execute_input": "2021-10-11T15:48:45.132374Z",
     "iopub.status.busy": "2021-10-11T15:48:45.131412Z",
     "iopub.status.idle": "2021-10-11T15:48:45.135773Z",
     "shell.execute_reply": "2021-10-11T15:48:45.136164Z",
     "shell.execute_reply.started": "2021-10-11T14:58:18.355030Z"
    },
    "papermill": {
     "duration": 0.044977,
     "end_time": "2021-10-11T15:48:45.136335",
     "exception": false,
     "start_time": "2021-10-11T15:48:45.091358",
     "status": "completed"
    },
    "tags": []
   },
   "outputs": [],
   "source": [
    "data,labels0=zip(*dataset)\n",
    "test,testlabels0=zip(*testset)"
   ]
  },
  {
   "cell_type": "code",
   "execution_count": 8,
   "id": "c5adb898",
   "metadata": {
    "execution": {
     "iopub.execute_input": "2021-10-11T15:48:45.212861Z",
     "iopub.status.busy": "2021-10-11T15:48:45.211919Z",
     "iopub.status.idle": "2021-10-11T15:48:45.220485Z",
     "shell.execute_reply": "2021-10-11T15:48:45.219920Z",
     "shell.execute_reply.started": "2021-10-11T14:58:20.424519Z"
    },
    "papermill": {
     "duration": 0.048064,
     "end_time": "2021-10-11T15:48:45.220714",
     "exception": false,
     "start_time": "2021-10-11T15:48:45.172650",
     "status": "completed"
    },
    "tags": []
   },
   "outputs": [],
   "source": [
    "labels1=to_categorical(labels0)\n",
    "labels=np.array(labels1)"
   ]
  },
  {
   "cell_type": "code",
   "execution_count": 9,
   "id": "fa505286",
   "metadata": {
    "execution": {
     "iopub.execute_input": "2021-10-11T15:48:45.300819Z",
     "iopub.status.busy": "2021-10-11T15:48:45.300181Z",
     "iopub.status.idle": "2021-10-11T15:48:45.354387Z",
     "shell.execute_reply": "2021-10-11T15:48:45.354981Z",
     "shell.execute_reply.started": "2021-10-11T14:58:25.279345Z"
    },
    "papermill": {
     "duration": 0.097448,
     "end_time": "2021-10-11T15:48:45.355197",
     "exception": false,
     "start_time": "2021-10-11T15:48:45.257749",
     "status": "completed"
    },
    "tags": []
   },
   "outputs": [],
   "source": [
    "data=np.array(data)\n",
    "test=np.array(test)"
   ]
  },
  {
   "cell_type": "code",
   "execution_count": 10,
   "id": "5361fe0b",
   "metadata": {
    "execution": {
     "iopub.execute_input": "2021-10-11T15:48:45.440496Z",
     "iopub.status.busy": "2021-10-11T15:48:45.439851Z",
     "iopub.status.idle": "2021-10-11T15:48:45.474138Z",
     "shell.execute_reply": "2021-10-11T15:48:45.474615Z",
     "shell.execute_reply.started": "2021-10-11T14:58:26.175200Z"
    },
    "papermill": {
     "duration": 0.080298,
     "end_time": "2021-10-11T15:48:45.474962",
     "exception": false,
     "start_time": "2021-10-11T15:48:45.394664",
     "status": "completed"
    },
    "tags": []
   },
   "outputs": [],
   "source": [
    "trainx,testx,trainy,testy=train_test_split(data,labels,test_size=0.2,random_state=44)"
   ]
  },
  {
   "cell_type": "code",
   "execution_count": 11,
   "id": "4dc5b270",
   "metadata": {
    "execution": {
     "iopub.execute_input": "2021-10-11T15:48:45.557045Z",
     "iopub.status.busy": "2021-10-11T15:48:45.556386Z",
     "iopub.status.idle": "2021-10-11T15:48:45.559644Z",
     "shell.execute_reply": "2021-10-11T15:48:45.559153Z",
     "shell.execute_reply.started": "2021-10-11T14:58:27.089663Z"
    },
    "papermill": {
     "duration": 0.047525,
     "end_time": "2021-10-11T15:48:45.559791",
     "exception": false,
     "start_time": "2021-10-11T15:48:45.512266",
     "status": "completed"
    },
    "tags": []
   },
   "outputs": [
    {
     "name": "stdout",
     "output_type": "stream",
     "text": [
      "(2560, 40, 40, 3)\n",
      "(640, 40, 40, 3)\n",
      "(2560, 80)\n",
      "(640, 80)\n"
     ]
    }
   ],
   "source": [
    "print(trainx.shape)\n",
    "print(testx.shape)\n",
    "print(trainy.shape)\n",
    "print(testy.shape)"
   ]
  },
  {
   "cell_type": "code",
   "execution_count": 12,
   "id": "aed2aa4f",
   "metadata": {
    "execution": {
     "iopub.execute_input": "2021-10-11T15:48:45.640017Z",
     "iopub.status.busy": "2021-10-11T15:48:45.639376Z",
     "iopub.status.idle": "2021-10-11T15:48:45.642701Z",
     "shell.execute_reply": "2021-10-11T15:48:45.642093Z",
     "shell.execute_reply.started": "2021-10-11T14:58:28.145570Z"
    },
    "papermill": {
     "duration": 0.046053,
     "end_time": "2021-10-11T15:48:45.642835",
     "exception": false,
     "start_time": "2021-10-11T15:48:45.596782",
     "status": "completed"
    },
    "tags": []
   },
   "outputs": [],
   "source": [
    "datagen = ImageDataGenerator(horizontal_flip=True,vertical_flip=True,rotation_range=20,zoom_range=0.5,\n",
    "                        width_shift_range=0.2,height_shift_range=0.2,shear_range=0.1,fill_mode=\"nearest\")"
   ]
  },
  {
   "cell_type": "code",
   "execution_count": 13,
   "id": "6b38a13a",
   "metadata": {
    "execution": {
     "iopub.execute_input": "2021-10-11T15:48:45.727129Z",
     "iopub.status.busy": "2021-10-11T15:48:45.726534Z",
     "iopub.status.idle": "2021-10-11T15:48:54.715729Z",
     "shell.execute_reply": "2021-10-11T15:48:54.715010Z",
     "shell.execute_reply.started": "2021-10-11T14:58:29.508587Z"
    },
    "papermill": {
     "duration": 9.034174,
     "end_time": "2021-10-11T15:48:54.715900",
     "exception": false,
     "start_time": "2021-10-11T15:48:45.681726",
     "status": "completed"
    },
    "tags": []
   },
   "outputs": [
    {
     "name": "stderr",
     "output_type": "stream",
     "text": [
      "2021-10-11 15:48:45.769839: I tensorflow/compiler/jit/xla_cpu_device.cc:41] Not creating XLA devices, tf_xla_enable_xla_devices not set\n",
      "2021-10-11 15:48:45.773126: W tensorflow/stream_executor/platform/default/dso_loader.cc:60] Could not load dynamic library 'libcuda.so.1'; dlerror: libcuda.so.1: cannot open shared object file: No such file or directory; LD_LIBRARY_PATH: /opt/conda/lib\n",
      "2021-10-11 15:48:45.773173: W tensorflow/stream_executor/cuda/cuda_driver.cc:326] failed call to cuInit: UNKNOWN ERROR (303)\n",
      "2021-10-11 15:48:45.773205: I tensorflow/stream_executor/cuda/cuda_diagnostics.cc:156] kernel driver does not appear to be running on this host (0da54db73b18): /proc/driver/nvidia/version does not exist\n",
      "2021-10-11 15:48:45.773663: I tensorflow/core/platform/cpu_feature_guard.cc:142] This TensorFlow binary is optimized with oneAPI Deep Neural Network Library (oneDNN) to use the following CPU instructions in performance-critical operations:  AVX2 FMA\n",
      "To enable them in other operations, rebuild TensorFlow with the appropriate compiler flags.\n",
      "2021-10-11 15:48:45.774490: I tensorflow/compiler/jit/xla_gpu_device.cc:99] Not creating XLA devices, tf_xla_enable_xla_devices not set\n"
     ]
    },
    {
     "name": "stdout",
     "output_type": "stream",
     "text": [
      "Downloading data from https://storage.googleapis.com/tensorflow/keras-applications/densenet/densenet201_weights_tf_dim_ordering_tf_kernels_notop.h5\n",
      "74842112/74836368 [==============================] - 3s 0us/step\n"
     ]
    }
   ],
   "source": [
    "pretrained_model3 = tf.keras.applications.DenseNet201(input_shape=(40,40,3),include_top=False,weights='imagenet',pooling='avg')\n",
    "pretrained_model3.trainable = False"
   ]
  },
  {
   "cell_type": "code",
   "execution_count": 14,
   "id": "231ca4fd",
   "metadata": {
    "execution": {
     "iopub.execute_input": "2021-10-11T15:48:54.806390Z",
     "iopub.status.busy": "2021-10-11T15:48:54.805097Z",
     "iopub.status.idle": "2021-10-11T15:48:54.869256Z",
     "shell.execute_reply": "2021-10-11T15:48:54.868739Z",
     "shell.execute_reply.started": "2021-10-11T14:58:40.304714Z"
    },
    "papermill": {
     "duration": 0.112746,
     "end_time": "2021-10-11T15:48:54.869420",
     "exception": false,
     "start_time": "2021-10-11T15:48:54.756674",
     "status": "completed"
    },
    "tags": []
   },
   "outputs": [],
   "source": [
    "inputs3 = pretrained_model3.input\n",
    "x3 = tf.keras.layers.Dense(128, activation='relu')(pretrained_model3.output)\n",
    "outputs3 = tf.keras.layers.Dense(80, activation='softmax')(x3)\n",
    "model = tf.keras.Model(inputs=inputs3, outputs=outputs3)"
   ]
  },
  {
   "cell_type": "code",
   "execution_count": 15,
   "id": "06e04fff",
   "metadata": {
    "execution": {
     "iopub.execute_input": "2021-10-11T15:48:54.973094Z",
     "iopub.status.busy": "2021-10-11T15:48:54.972326Z",
     "iopub.status.idle": "2021-10-11T15:48:54.981462Z",
     "shell.execute_reply": "2021-10-11T15:48:54.982064Z",
     "shell.execute_reply.started": "2021-10-11T14:58:40.384265Z"
    },
    "papermill": {
     "duration": 0.070654,
     "end_time": "2021-10-11T15:48:54.982274",
     "exception": false,
     "start_time": "2021-10-11T15:48:54.911620",
     "status": "completed"
    },
    "tags": []
   },
   "outputs": [],
   "source": [
    "model.compile(optimizer='adam',loss='categorical_crossentropy',metrics=['accuracy'])"
   ]
  },
  {
   "cell_type": "code",
   "execution_count": 16,
   "id": "ea2caca8",
   "metadata": {
    "execution": {
     "iopub.execute_input": "2021-10-11T15:48:55.076286Z",
     "iopub.status.busy": "2021-10-11T15:48:55.075698Z",
     "iopub.status.idle": "2021-10-11T16:27:57.523146Z",
     "shell.execute_reply": "2021-10-11T16:27:57.523788Z",
     "shell.execute_reply.started": "2021-10-11T14:58:40.418523Z"
    },
    "papermill": {
     "duration": 2342.497481,
     "end_time": "2021-10-11T16:27:57.524032",
     "exception": false,
     "start_time": "2021-10-11T15:48:55.026551",
     "status": "completed"
    },
    "tags": []
   },
   "outputs": [
    {
     "name": "stderr",
     "output_type": "stream",
     "text": [
      "2021-10-11 15:48:55.214492: I tensorflow/compiler/mlir/mlir_graph_optimization_pass.cc:116] None of the MLIR optimization passes are enabled (registered 2)\n",
      "2021-10-11 15:48:55.219942: I tensorflow/core/platform/profile_utils/cpu_utils.cc:112] CPU Frequency: 2200160000 Hz\n"
     ]
    },
    {
     "name": "stdout",
     "output_type": "stream",
     "text": [
      "Epoch 1/140\n",
      "80/80 [==============================] - 31s 252ms/step - loss: 4.4573 - accuracy: 0.0235 - val_loss: 4.2698 - val_accuracy: 0.0359\n",
      "Epoch 2/140\n",
      "80/80 [==============================] - 17s 209ms/step - loss: 4.1303 - accuracy: 0.0584 - val_loss: 4.0799 - val_accuracy: 0.0656\n",
      "Epoch 3/140\n",
      "80/80 [==============================] - 16s 206ms/step - loss: 3.8501 - accuracy: 0.0928 - val_loss: 3.8797 - val_accuracy: 0.0859\n",
      "Epoch 4/140\n",
      "80/80 [==============================] - 17s 212ms/step - loss: 3.6422 - accuracy: 0.1154 - val_loss: 3.8216 - val_accuracy: 0.0969\n",
      "Epoch 5/140\n",
      "80/80 [==============================] - 16s 205ms/step - loss: 3.4312 - accuracy: 0.1580 - val_loss: 3.7139 - val_accuracy: 0.1156\n",
      "Epoch 6/140\n",
      "80/80 [==============================] - 17s 208ms/step - loss: 3.3420 - accuracy: 0.1885 - val_loss: 3.6839 - val_accuracy: 0.1172\n",
      "Epoch 7/140\n",
      "80/80 [==============================] - 16s 206ms/step - loss: 3.2883 - accuracy: 0.1803 - val_loss: 3.6338 - val_accuracy: 0.1141\n",
      "Epoch 8/140\n",
      "80/80 [==============================] - 17s 207ms/step - loss: 3.1934 - accuracy: 0.2027 - val_loss: 3.5791 - val_accuracy: 0.1625\n",
      "Epoch 9/140\n",
      "80/80 [==============================] - 17s 210ms/step - loss: 3.1380 - accuracy: 0.2166 - val_loss: 3.5920 - val_accuracy: 0.1437\n",
      "Epoch 10/140\n",
      "80/80 [==============================] - 17s 206ms/step - loss: 3.0666 - accuracy: 0.2268 - val_loss: 3.5370 - val_accuracy: 0.1578\n",
      "Epoch 11/140\n",
      "80/80 [==============================] - 17s 207ms/step - loss: 3.0307 - accuracy: 0.2411 - val_loss: 3.6121 - val_accuracy: 0.1516\n",
      "Epoch 12/140\n",
      "80/80 [==============================] - 16s 204ms/step - loss: 2.9534 - accuracy: 0.2575 - val_loss: 3.6047 - val_accuracy: 0.1500\n",
      "Epoch 13/140\n",
      "80/80 [==============================] - 17s 207ms/step - loss: 2.9380 - accuracy: 0.2488 - val_loss: 3.5953 - val_accuracy: 0.1484\n",
      "Epoch 14/140\n",
      "80/80 [==============================] - 16s 206ms/step - loss: 2.9050 - accuracy: 0.2576 - val_loss: 3.5456 - val_accuracy: 0.1469\n",
      "Epoch 15/140\n",
      "80/80 [==============================] - 17s 208ms/step - loss: 2.8551 - accuracy: 0.2726 - val_loss: 3.5480 - val_accuracy: 0.1484\n",
      "Epoch 16/140\n",
      "80/80 [==============================] - 16s 206ms/step - loss: 2.8329 - accuracy: 0.2789 - val_loss: 3.5467 - val_accuracy: 0.1578\n",
      "Epoch 17/140\n",
      "80/80 [==============================] - 17s 208ms/step - loss: 2.8386 - accuracy: 0.2683 - val_loss: 3.5043 - val_accuracy: 0.1609\n",
      "Epoch 18/140\n",
      "80/80 [==============================] - 16s 204ms/step - loss: 2.7831 - accuracy: 0.2761 - val_loss: 3.4928 - val_accuracy: 0.1625\n",
      "Epoch 19/140\n",
      "80/80 [==============================] - 16s 206ms/step - loss: 2.7614 - accuracy: 0.2920 - val_loss: 3.5962 - val_accuracy: 0.1578\n",
      "Epoch 20/140\n",
      "80/80 [==============================] - 16s 203ms/step - loss: 2.8772 - accuracy: 0.2653 - val_loss: 3.5053 - val_accuracy: 0.1734\n",
      "Epoch 21/140\n",
      "80/80 [==============================] - 17s 207ms/step - loss: 2.7186 - accuracy: 0.3004 - val_loss: 3.5060 - val_accuracy: 0.1656\n",
      "Epoch 22/140\n",
      "80/80 [==============================] - 16s 204ms/step - loss: 2.6530 - accuracy: 0.2934 - val_loss: 3.4905 - val_accuracy: 0.1625\n",
      "Epoch 23/140\n",
      "80/80 [==============================] - 17s 206ms/step - loss: 2.6755 - accuracy: 0.3004 - val_loss: 3.5705 - val_accuracy: 0.1625\n",
      "Epoch 24/140\n",
      "80/80 [==============================] - 16s 205ms/step - loss: 2.6270 - accuracy: 0.3154 - val_loss: 3.6582 - val_accuracy: 0.1641\n",
      "Epoch 25/140\n",
      "80/80 [==============================] - 17s 206ms/step - loss: 2.6357 - accuracy: 0.3222 - val_loss: 3.6036 - val_accuracy: 0.1625\n",
      "Epoch 26/140\n",
      "80/80 [==============================] - 16s 204ms/step - loss: 2.6577 - accuracy: 0.3104 - val_loss: 3.5571 - val_accuracy: 0.1781\n",
      "Epoch 27/140\n",
      "80/80 [==============================] - 17s 206ms/step - loss: 2.5874 - accuracy: 0.3378 - val_loss: 3.5554 - val_accuracy: 0.1609\n",
      "Epoch 28/140\n",
      "80/80 [==============================] - 16s 204ms/step - loss: 2.6349 - accuracy: 0.3023 - val_loss: 3.5366 - val_accuracy: 0.1766\n",
      "Epoch 29/140\n",
      "80/80 [==============================] - 17s 206ms/step - loss: 2.5725 - accuracy: 0.3398 - val_loss: 3.5528 - val_accuracy: 0.1828\n",
      "Epoch 30/140\n",
      "80/80 [==============================] - 16s 204ms/step - loss: 2.6368 - accuracy: 0.3205 - val_loss: 3.5511 - val_accuracy: 0.1719\n",
      "Epoch 31/140\n",
      "80/80 [==============================] - 17s 207ms/step - loss: 2.4742 - accuracy: 0.3445 - val_loss: 3.5905 - val_accuracy: 0.1734\n",
      "Epoch 32/140\n",
      "80/80 [==============================] - 16s 205ms/step - loss: 2.4903 - accuracy: 0.3545 - val_loss: 3.5416 - val_accuracy: 0.1609\n",
      "Epoch 33/140\n",
      "80/80 [==============================] - 17s 210ms/step - loss: 2.5680 - accuracy: 0.3372 - val_loss: 3.5701 - val_accuracy: 0.1703\n",
      "Epoch 34/140\n",
      "80/80 [==============================] - 16s 202ms/step - loss: 2.5234 - accuracy: 0.3399 - val_loss: 3.5339 - val_accuracy: 0.1750\n",
      "Epoch 35/140\n",
      "80/80 [==============================] - 17s 207ms/step - loss: 2.4791 - accuracy: 0.3487 - val_loss: 3.6201 - val_accuracy: 0.1672\n",
      "Epoch 36/140\n",
      "80/80 [==============================] - 16s 205ms/step - loss: 2.4580 - accuracy: 0.3515 - val_loss: 3.5547 - val_accuracy: 0.1859\n",
      "Epoch 37/140\n",
      "80/80 [==============================] - 17s 213ms/step - loss: 2.5068 - accuracy: 0.3464 - val_loss: 3.5058 - val_accuracy: 0.1656\n",
      "Epoch 38/140\n",
      "80/80 [==============================] - 16s 206ms/step - loss: 2.4750 - accuracy: 0.3525 - val_loss: 3.6019 - val_accuracy: 0.1937\n",
      "Epoch 39/140\n",
      "80/80 [==============================] - 17s 211ms/step - loss: 2.3804 - accuracy: 0.3674 - val_loss: 3.6505 - val_accuracy: 0.1656\n",
      "Epoch 40/140\n",
      "80/80 [==============================] - 17s 207ms/step - loss: 2.3967 - accuracy: 0.3700 - val_loss: 3.6234 - val_accuracy: 0.1859\n",
      "Epoch 41/140\n",
      "80/80 [==============================] - 17s 210ms/step - loss: 2.3615 - accuracy: 0.3799 - val_loss: 3.5703 - val_accuracy: 0.1609\n",
      "Epoch 42/140\n",
      "80/80 [==============================] - 16s 205ms/step - loss: 2.5250 - accuracy: 0.3292 - val_loss: 3.5967 - val_accuracy: 0.1828\n",
      "Epoch 43/140\n",
      "80/80 [==============================] - 17s 210ms/step - loss: 2.4004 - accuracy: 0.3845 - val_loss: 3.6299 - val_accuracy: 0.1828\n",
      "Epoch 44/140\n",
      "80/80 [==============================] - 17s 207ms/step - loss: 2.4743 - accuracy: 0.3423 - val_loss: 3.6417 - val_accuracy: 0.1813\n",
      "Epoch 45/140\n",
      "80/80 [==============================] - 19s 242ms/step - loss: 2.4337 - accuracy: 0.3629 - val_loss: 3.6107 - val_accuracy: 0.1922\n",
      "Epoch 46/140\n",
      "80/80 [==============================] - 16s 206ms/step - loss: 2.3916 - accuracy: 0.3708 - val_loss: 3.5549 - val_accuracy: 0.1937\n",
      "Epoch 47/140\n",
      "80/80 [==============================] - 16s 206ms/step - loss: 2.3019 - accuracy: 0.3951 - val_loss: 3.6946 - val_accuracy: 0.1813\n",
      "Epoch 48/140\n",
      "80/80 [==============================] - 16s 205ms/step - loss: 2.3603 - accuracy: 0.3719 - val_loss: 3.6428 - val_accuracy: 0.1844\n",
      "Epoch 49/140\n",
      "80/80 [==============================] - 16s 205ms/step - loss: 2.3578 - accuracy: 0.3510 - val_loss: 3.6574 - val_accuracy: 0.1969\n",
      "Epoch 50/140\n",
      "80/80 [==============================] - 16s 206ms/step - loss: 2.3346 - accuracy: 0.3872 - val_loss: 3.6346 - val_accuracy: 0.1953\n",
      "Epoch 51/140\n",
      "80/80 [==============================] - 17s 208ms/step - loss: 2.3130 - accuracy: 0.3891 - val_loss: 3.7054 - val_accuracy: 0.1766\n",
      "Epoch 52/140\n",
      "80/80 [==============================] - 16s 206ms/step - loss: 2.3506 - accuracy: 0.3693 - val_loss: 3.7267 - val_accuracy: 0.1891\n",
      "Epoch 53/140\n",
      "80/80 [==============================] - 16s 206ms/step - loss: 2.4081 - accuracy: 0.3699 - val_loss: 3.7302 - val_accuracy: 0.1906\n",
      "Epoch 54/140\n",
      "80/80 [==============================] - 17s 207ms/step - loss: 2.3599 - accuracy: 0.3791 - val_loss: 3.6317 - val_accuracy: 0.1891\n",
      "Epoch 55/140\n",
      "80/80 [==============================] - 16s 206ms/step - loss: 2.3189 - accuracy: 0.3871 - val_loss: 3.7192 - val_accuracy: 0.1828\n",
      "Epoch 56/140\n",
      "80/80 [==============================] - 17s 207ms/step - loss: 2.2447 - accuracy: 0.3921 - val_loss: 3.6840 - val_accuracy: 0.1891\n",
      "Epoch 57/140\n",
      "80/80 [==============================] - 17s 206ms/step - loss: 2.2701 - accuracy: 0.3872 - val_loss: 3.7002 - val_accuracy: 0.2016\n",
      "Epoch 58/140\n",
      "80/80 [==============================] - 17s 207ms/step - loss: 2.2890 - accuracy: 0.3789 - val_loss: 3.6948 - val_accuracy: 0.1906\n",
      "Epoch 59/140\n",
      "80/80 [==============================] - 16s 206ms/step - loss: 2.2634 - accuracy: 0.3924 - val_loss: 3.6532 - val_accuracy: 0.2000\n",
      "Epoch 60/140\n",
      "80/80 [==============================] - 16s 206ms/step - loss: 2.2227 - accuracy: 0.4168 - val_loss: 3.7638 - val_accuracy: 0.2016\n",
      "Epoch 61/140\n",
      "80/80 [==============================] - 16s 205ms/step - loss: 2.2638 - accuracy: 0.4031 - val_loss: 3.7470 - val_accuracy: 0.1891\n",
      "Epoch 62/140\n",
      "80/80 [==============================] - 17s 207ms/step - loss: 2.3246 - accuracy: 0.3710 - val_loss: 3.7088 - val_accuracy: 0.1906\n",
      "Epoch 63/140\n",
      "80/80 [==============================] - 16s 206ms/step - loss: 2.2547 - accuracy: 0.3862 - val_loss: 3.6901 - val_accuracy: 0.1953\n",
      "Epoch 64/140\n",
      "80/80 [==============================] - 17s 207ms/step - loss: 2.2426 - accuracy: 0.4086 - val_loss: 3.7151 - val_accuracy: 0.1828\n",
      "Epoch 65/140\n",
      "80/80 [==============================] - 17s 208ms/step - loss: 2.2272 - accuracy: 0.4112 - val_loss: 3.6774 - val_accuracy: 0.1828\n",
      "Epoch 66/140\n",
      "80/80 [==============================] - 17s 207ms/step - loss: 2.2672 - accuracy: 0.4026 - val_loss: 3.7063 - val_accuracy: 0.1891\n",
      "Epoch 67/140\n",
      "80/80 [==============================] - 16s 206ms/step - loss: 2.2087 - accuracy: 0.4115 - val_loss: 3.7533 - val_accuracy: 0.1797\n",
      "Epoch 68/140\n",
      "80/80 [==============================] - 17s 207ms/step - loss: 2.2810 - accuracy: 0.3968 - val_loss: 3.6918 - val_accuracy: 0.1891\n",
      "Epoch 69/140\n",
      "80/80 [==============================] - 17s 207ms/step - loss: 2.2453 - accuracy: 0.4203 - val_loss: 3.7246 - val_accuracy: 0.1766\n",
      "Epoch 70/140\n",
      "80/80 [==============================] - 17s 210ms/step - loss: 2.1974 - accuracy: 0.4272 - val_loss: 3.6738 - val_accuracy: 0.1859\n",
      "Epoch 71/140\n",
      "80/80 [==============================] - 16s 206ms/step - loss: 2.1749 - accuracy: 0.4141 - val_loss: 3.7439 - val_accuracy: 0.1813\n",
      "Epoch 72/140\n",
      "80/80 [==============================] - 17s 207ms/step - loss: 2.1960 - accuracy: 0.4246 - val_loss: 3.7292 - val_accuracy: 0.1891\n",
      "Epoch 73/140\n",
      "80/80 [==============================] - 17s 208ms/step - loss: 2.1744 - accuracy: 0.4122 - val_loss: 3.6845 - val_accuracy: 0.1969\n",
      "Epoch 74/140\n",
      "80/80 [==============================] - 17s 208ms/step - loss: 2.1411 - accuracy: 0.4178 - val_loss: 3.7170 - val_accuracy: 0.2094\n",
      "Epoch 75/140\n",
      "80/80 [==============================] - 16s 205ms/step - loss: 2.1999 - accuracy: 0.4150 - val_loss: 3.7163 - val_accuracy: 0.1781\n",
      "Epoch 76/140\n",
      "80/80 [==============================] - 17s 209ms/step - loss: 2.1062 - accuracy: 0.4351 - val_loss: 3.7258 - val_accuracy: 0.1813\n",
      "Epoch 77/140\n",
      "80/80 [==============================] - 17s 208ms/step - loss: 2.1879 - accuracy: 0.4150 - val_loss: 3.7952 - val_accuracy: 0.1828\n",
      "Epoch 78/140\n",
      "80/80 [==============================] - 17s 206ms/step - loss: 2.1732 - accuracy: 0.4190 - val_loss: 3.8040 - val_accuracy: 0.1875\n",
      "Epoch 79/140\n",
      "80/80 [==============================] - 16s 206ms/step - loss: 2.1566 - accuracy: 0.4213 - val_loss: 3.8657 - val_accuracy: 0.1969\n",
      "Epoch 80/140\n",
      "80/80 [==============================] - 17s 207ms/step - loss: 2.2390 - accuracy: 0.3907 - val_loss: 3.7629 - val_accuracy: 0.2016\n",
      "Epoch 81/140\n",
      "80/80 [==============================] - 17s 208ms/step - loss: 2.1905 - accuracy: 0.3977 - val_loss: 3.7746 - val_accuracy: 0.1922\n",
      "Epoch 82/140\n",
      "80/80 [==============================] - 17s 207ms/step - loss: 2.1572 - accuracy: 0.4180 - val_loss: 3.7208 - val_accuracy: 0.2000\n",
      "Epoch 83/140\n",
      "80/80 [==============================] - 16s 204ms/step - loss: 2.1645 - accuracy: 0.4356 - val_loss: 3.7784 - val_accuracy: 0.1891\n",
      "Epoch 84/140\n",
      "80/80 [==============================] - 17s 207ms/step - loss: 2.1353 - accuracy: 0.4167 - val_loss: 3.7470 - val_accuracy: 0.2000\n",
      "Epoch 85/140\n",
      "80/80 [==============================] - 16s 205ms/step - loss: 2.2188 - accuracy: 0.4132 - val_loss: 3.8073 - val_accuracy: 0.1781\n",
      "Epoch 86/140\n",
      "80/80 [==============================] - 17s 208ms/step - loss: 2.0937 - accuracy: 0.4239 - val_loss: 3.7509 - val_accuracy: 0.1984\n",
      "Epoch 87/140\n",
      "80/80 [==============================] - 17s 206ms/step - loss: 2.1538 - accuracy: 0.4305 - val_loss: 3.7551 - val_accuracy: 0.1906\n",
      "Epoch 88/140\n",
      "80/80 [==============================] - 17s 206ms/step - loss: 2.1376 - accuracy: 0.4229 - val_loss: 3.8184 - val_accuracy: 0.1937\n",
      "Epoch 89/140\n",
      "80/80 [==============================] - 16s 206ms/step - loss: 2.1452 - accuracy: 0.4147 - val_loss: 3.8038 - val_accuracy: 0.1984\n",
      "Epoch 90/140\n",
      "80/80 [==============================] - 17s 207ms/step - loss: 2.1212 - accuracy: 0.4297 - val_loss: 3.7623 - val_accuracy: 0.1984\n",
      "Epoch 91/140\n",
      "80/80 [==============================] - 17s 207ms/step - loss: 2.1176 - accuracy: 0.4429 - val_loss: 3.7128 - val_accuracy: 0.2062\n",
      "Epoch 92/140\n",
      "80/80 [==============================] - 17s 208ms/step - loss: 2.0076 - accuracy: 0.4510 - val_loss: 3.7962 - val_accuracy: 0.2078\n",
      "Epoch 93/140\n",
      "80/80 [==============================] - 17s 206ms/step - loss: 2.0918 - accuracy: 0.4166 - val_loss: 3.7279 - val_accuracy: 0.2234\n",
      "Epoch 94/140\n",
      "80/80 [==============================] - 17s 208ms/step - loss: 2.0623 - accuracy: 0.4487 - val_loss: 3.8783 - val_accuracy: 0.2000\n",
      "Epoch 95/140\n",
      "80/80 [==============================] - 17s 207ms/step - loss: 2.0635 - accuracy: 0.4420 - val_loss: 3.8402 - val_accuracy: 0.1953\n",
      "Epoch 96/140\n",
      "80/80 [==============================] - 17s 214ms/step - loss: 2.1161 - accuracy: 0.4339 - val_loss: 3.8801 - val_accuracy: 0.1937\n",
      "Epoch 97/140\n",
      "80/80 [==============================] - 16s 203ms/step - loss: 2.1084 - accuracy: 0.4485 - val_loss: 3.9286 - val_accuracy: 0.1875\n",
      "Epoch 98/140\n",
      "80/80 [==============================] - 17s 210ms/step - loss: 2.1184 - accuracy: 0.4403 - val_loss: 3.8310 - val_accuracy: 0.1969\n",
      "Epoch 99/140\n",
      "80/80 [==============================] - 16s 205ms/step - loss: 2.0730 - accuracy: 0.4331 - val_loss: 3.8424 - val_accuracy: 0.1813\n",
      "Epoch 100/140\n",
      "80/80 [==============================] - 17s 213ms/step - loss: 2.0817 - accuracy: 0.4404 - val_loss: 3.8193 - val_accuracy: 0.1891\n",
      "Epoch 101/140\n",
      "80/80 [==============================] - 16s 204ms/step - loss: 2.1333 - accuracy: 0.4312 - val_loss: 3.8723 - val_accuracy: 0.2031\n",
      "Epoch 102/140\n",
      "80/80 [==============================] - 17s 215ms/step - loss: 2.0275 - accuracy: 0.4472 - val_loss: 3.8960 - val_accuracy: 0.1969\n",
      "Epoch 103/140\n",
      "80/80 [==============================] - 16s 203ms/step - loss: 2.0435 - accuracy: 0.4463 - val_loss: 3.8341 - val_accuracy: 0.2078\n",
      "Epoch 104/140\n",
      "80/80 [==============================] - 17s 211ms/step - loss: 2.0139 - accuracy: 0.4414 - val_loss: 3.9126 - val_accuracy: 0.1953\n",
      "Epoch 105/140\n",
      "80/80 [==============================] - 16s 202ms/step - loss: 2.0276 - accuracy: 0.4648 - val_loss: 3.8861 - val_accuracy: 0.2031\n",
      "Epoch 106/140\n",
      "80/80 [==============================] - 17s 211ms/step - loss: 2.0628 - accuracy: 0.4418 - val_loss: 3.9200 - val_accuracy: 0.1937\n",
      "Epoch 107/140\n",
      "80/80 [==============================] - 16s 204ms/step - loss: 2.0434 - accuracy: 0.4536 - val_loss: 3.8756 - val_accuracy: 0.1844\n",
      "Epoch 108/140\n",
      "80/80 [==============================] - 17s 212ms/step - loss: 2.0399 - accuracy: 0.4294 - val_loss: 3.9097 - val_accuracy: 0.2078\n",
      "Epoch 109/140\n",
      "80/80 [==============================] - 16s 202ms/step - loss: 2.1236 - accuracy: 0.4379 - val_loss: 3.8576 - val_accuracy: 0.2031\n",
      "Epoch 110/140\n",
      "80/80 [==============================] - 17s 212ms/step - loss: 2.0967 - accuracy: 0.4440 - val_loss: 3.9096 - val_accuracy: 0.2156\n",
      "Epoch 111/140\n",
      "80/80 [==============================] - 16s 204ms/step - loss: 1.9428 - accuracy: 0.4713 - val_loss: 3.9633 - val_accuracy: 0.2047\n",
      "Epoch 112/140\n",
      "80/80 [==============================] - 17s 215ms/step - loss: 2.1182 - accuracy: 0.4313 - val_loss: 3.9416 - val_accuracy: 0.1891\n",
      "Epoch 113/140\n",
      "80/80 [==============================] - 16s 204ms/step - loss: 2.0241 - accuracy: 0.4641 - val_loss: 3.8989 - val_accuracy: 0.1906\n",
      "Epoch 114/140\n",
      "80/80 [==============================] - 17s 212ms/step - loss: 2.0375 - accuracy: 0.4525 - val_loss: 3.9950 - val_accuracy: 0.2156\n",
      "Epoch 115/140\n",
      "80/80 [==============================] - 16s 203ms/step - loss: 1.9897 - accuracy: 0.4551 - val_loss: 3.9867 - val_accuracy: 0.2062\n",
      "Epoch 116/140\n",
      "80/80 [==============================] - 17s 213ms/step - loss: 1.9927 - accuracy: 0.4496 - val_loss: 3.9387 - val_accuracy: 0.2078\n",
      "Epoch 117/140\n",
      "80/80 [==============================] - 16s 203ms/step - loss: 2.0363 - accuracy: 0.4467 - val_loss: 3.9335 - val_accuracy: 0.1859\n",
      "Epoch 118/140\n",
      "80/80 [==============================] - 17s 213ms/step - loss: 2.0126 - accuracy: 0.4526 - val_loss: 3.9625 - val_accuracy: 0.2109\n",
      "Epoch 119/140\n",
      "80/80 [==============================] - 16s 202ms/step - loss: 2.0163 - accuracy: 0.4643 - val_loss: 3.9228 - val_accuracy: 0.1984\n",
      "Epoch 120/140\n",
      "80/80 [==============================] - 19s 241ms/step - loss: 2.0436 - accuracy: 0.4581 - val_loss: 3.9814 - val_accuracy: 0.2062\n",
      "Epoch 121/140\n",
      "80/80 [==============================] - 16s 202ms/step - loss: 2.0160 - accuracy: 0.4468 - val_loss: 3.9511 - val_accuracy: 0.2203\n",
      "Epoch 122/140\n",
      "80/80 [==============================] - 17s 211ms/step - loss: 1.8762 - accuracy: 0.5010 - val_loss: 3.9533 - val_accuracy: 0.1969\n",
      "Epoch 123/140\n",
      "80/80 [==============================] - 16s 203ms/step - loss: 1.9783 - accuracy: 0.4603 - val_loss: 3.9740 - val_accuracy: 0.1937\n",
      "Epoch 124/140\n",
      "80/80 [==============================] - 17s 212ms/step - loss: 1.9562 - accuracy: 0.4815 - val_loss: 3.8980 - val_accuracy: 0.2094\n",
      "Epoch 125/140\n",
      "80/80 [==============================] - 16s 202ms/step - loss: 2.0300 - accuracy: 0.4556 - val_loss: 3.9128 - val_accuracy: 0.2250\n",
      "Epoch 126/140\n",
      "80/80 [==============================] - 17s 211ms/step - loss: 2.0057 - accuracy: 0.4527 - val_loss: 4.0069 - val_accuracy: 0.2109\n",
      "Epoch 127/140\n",
      "80/80 [==============================] - 16s 203ms/step - loss: 1.9633 - accuracy: 0.4686 - val_loss: 3.9808 - val_accuracy: 0.2062\n",
      "Epoch 128/140\n",
      "80/80 [==============================] - 17s 213ms/step - loss: 2.0461 - accuracy: 0.4520 - val_loss: 3.9338 - val_accuracy: 0.2047\n",
      "Epoch 129/140\n",
      "80/80 [==============================] - 16s 203ms/step - loss: 1.9707 - accuracy: 0.4622 - val_loss: 3.9417 - val_accuracy: 0.2125\n",
      "Epoch 130/140\n",
      "80/80 [==============================] - 17s 214ms/step - loss: 2.0714 - accuracy: 0.4407 - val_loss: 3.8303 - val_accuracy: 0.2234\n",
      "Epoch 131/140\n",
      "80/80 [==============================] - 16s 203ms/step - loss: 2.0002 - accuracy: 0.4566 - val_loss: 3.8922 - val_accuracy: 0.2234\n",
      "Epoch 132/140\n",
      "80/80 [==============================] - 17s 210ms/step - loss: 1.9889 - accuracy: 0.4601 - val_loss: 3.9555 - val_accuracy: 0.2281\n",
      "Epoch 133/140\n",
      "80/80 [==============================] - 16s 204ms/step - loss: 1.9763 - accuracy: 0.4635 - val_loss: 3.9771 - val_accuracy: 0.2062\n",
      "Epoch 134/140\n",
      "80/80 [==============================] - 17s 209ms/step - loss: 1.9805 - accuracy: 0.4796 - val_loss: 3.9880 - val_accuracy: 0.2109\n",
      "Epoch 135/140\n",
      "80/80 [==============================] - 16s 205ms/step - loss: 1.9628 - accuracy: 0.4740 - val_loss: 3.9743 - val_accuracy: 0.2047\n",
      "Epoch 136/140\n",
      "80/80 [==============================] - 17s 212ms/step - loss: 1.9687 - accuracy: 0.4546 - val_loss: 3.9486 - val_accuracy: 0.2000\n",
      "Epoch 137/140\n",
      "80/80 [==============================] - 17s 207ms/step - loss: 2.0053 - accuracy: 0.4612 - val_loss: 3.8975 - val_accuracy: 0.2313\n",
      "Epoch 138/140\n",
      "80/80 [==============================] - 17s 209ms/step - loss: 1.8879 - accuracy: 0.4791 - val_loss: 3.9356 - val_accuracy: 0.2219\n",
      "Epoch 139/140\n",
      "80/80 [==============================] - 16s 205ms/step - loss: 2.0009 - accuracy: 0.4513 - val_loss: 3.9355 - val_accuracy: 0.2172\n",
      "Epoch 140/140\n",
      "80/80 [==============================] - 16s 202ms/step - loss: 1.9544 - accuracy: 0.4757 - val_loss: 3.8657 - val_accuracy: 0.1984\n"
     ]
    }
   ],
   "source": [
    "his=model.fit(datagen.flow(trainx,trainy,batch_size=32),validation_data=(testx,testy),epochs=140)"
   ]
  },
  {
   "cell_type": "code",
   "execution_count": 17,
   "id": "877087fe",
   "metadata": {
    "execution": {
     "iopub.execute_input": "2021-10-11T16:28:03.009827Z",
     "iopub.status.busy": "2021-10-11T16:28:02.987146Z",
     "iopub.status.idle": "2021-10-11T16:28:09.369982Z",
     "shell.execute_reply": "2021-10-11T16:28:09.370592Z",
     "shell.execute_reply.started": "2021-10-11T15:34:36.445258Z"
    },
    "papermill": {
     "duration": 9.117915,
     "end_time": "2021-10-11T16:28:09.370809",
     "exception": false,
     "start_time": "2021-10-11T16:28:00.252894",
     "status": "completed"
    },
    "tags": []
   },
   "outputs": [
    {
     "name": "stdout",
     "output_type": "stream",
     "text": [
      "              precision    recall  f1-score   support\n",
      "\n",
      "           0       0.25      0.50      0.33         2\n",
      "           1       0.00      0.00      0.00         8\n",
      "           2       0.25      0.38      0.30         8\n",
      "           3       0.40      0.40      0.40         5\n",
      "           4       0.25      0.12      0.17         8\n",
      "           5       0.00      0.00      0.00        15\n",
      "           6       0.29      0.44      0.35         9\n",
      "           7       0.20      0.18      0.19        11\n",
      "           8       0.14      0.17      0.15         6\n",
      "           9       0.17      0.14      0.15         7\n",
      "          10       0.60      0.50      0.55         6\n",
      "          11       0.00      0.00      0.00         6\n",
      "          12       0.21      0.23      0.22        13\n",
      "          13       0.00      0.00      0.00         6\n",
      "          14       0.29      0.25      0.27         8\n",
      "          15       0.22      0.33      0.27         6\n",
      "          16       0.50      0.11      0.18         9\n",
      "          17       0.29      0.29      0.29         7\n",
      "          18       0.23      0.60      0.33         5\n",
      "          19       0.75      0.33      0.46         9\n",
      "          20       0.25      0.25      0.25         4\n",
      "          21       1.00      0.11      0.20         9\n",
      "          22       0.00      0.00      0.00         6\n",
      "          23       0.12      0.12      0.12         8\n",
      "          24       0.09      0.11      0.10         9\n",
      "          25       0.27      0.30      0.29        10\n",
      "          26       0.20      0.22      0.21         9\n",
      "          27       0.00      0.00      0.00         9\n",
      "          28       0.31      0.44      0.36         9\n",
      "          29       0.44      0.67      0.53         6\n",
      "          30       0.21      0.40      0.28        10\n",
      "          31       0.15      0.25      0.19         8\n",
      "          32       0.67      0.17      0.27        12\n",
      "          33       0.00      0.00      0.00         6\n",
      "          34       0.09      0.11      0.10         9\n",
      "          35       0.50      0.30      0.37        10\n",
      "          36       0.46      0.86      0.60         7\n",
      "          37       0.00      0.00      0.00         8\n",
      "          38       0.00      0.00      0.00         9\n",
      "          39       0.17      0.12      0.14         8\n",
      "          40       0.17      0.30      0.21        10\n",
      "          41       0.25      0.22      0.24         9\n",
      "          42       0.06      0.20      0.09         5\n",
      "          43       0.33      0.18      0.24        11\n",
      "          44       0.33      0.17      0.22        12\n",
      "          45       0.17      0.17      0.17         6\n",
      "          46       0.00      0.00      0.00         3\n",
      "          47       0.00      0.00      0.00         9\n",
      "          48       0.17      0.14      0.15         7\n",
      "          49       0.00      0.00      0.00         8\n",
      "          50       0.43      0.38      0.40         8\n",
      "          51       0.17      0.09      0.12        11\n",
      "          52       0.14      0.12      0.13         8\n",
      "          53       0.08      0.10      0.09        10\n",
      "          54       0.00      0.00      0.00         8\n",
      "          55       0.08      0.12      0.10         8\n",
      "          56       0.27      0.30      0.29        10\n",
      "          57       0.11      0.12      0.12         8\n",
      "          58       0.42      0.56      0.48         9\n",
      "          59       0.67      0.25      0.36         8\n",
      "          60       0.00      0.00      0.00         7\n",
      "          61       0.11      0.09      0.10        11\n",
      "          62       0.17      0.22      0.19         9\n",
      "          63       0.04      0.20      0.07         5\n",
      "          64       0.67      0.36      0.47        11\n",
      "          65       0.00      0.00      0.00         6\n",
      "          66       0.00      0.00      0.00         6\n",
      "          67       0.00      0.00      0.00         7\n",
      "          68       0.00      0.00      0.00         8\n",
      "          69       0.00      0.00      0.00         7\n",
      "          70       0.33      0.29      0.31         7\n",
      "          71       0.33      0.25      0.29         8\n",
      "          72       0.17      0.11      0.13         9\n",
      "          73       0.20      0.30      0.24        10\n",
      "          74       0.33      0.25      0.29         8\n",
      "          75       0.14      0.10      0.12        10\n",
      "          76       0.27      0.43      0.33         7\n",
      "          77       0.00      0.00      0.00         5\n",
      "          78       0.11      0.33      0.17         3\n",
      "          79       0.50      0.50      0.50         8\n",
      "\n",
      "    accuracy                           0.20       640\n",
      "   macro avg       0.22      0.20      0.19       640\n",
      "weighted avg       0.23      0.20      0.19       640\n",
      "\n"
     ]
    },
    {
     "name": "stderr",
     "output_type": "stream",
     "text": [
      "/opt/conda/lib/python3.7/site-packages/sklearn/metrics/_classification.py:1221: UndefinedMetricWarning: Precision and F-score are ill-defined and being set to 0.0 in labels with no predicted samples. Use `zero_division` parameter to control this behavior.\n",
      "  _warn_prf(average, modifier, msg_start, len(result))\n"
     ]
    }
   ],
   "source": [
    "y_pred=model.predict(testx)\n",
    "pred=np.argmax(y_pred,axis=1)\n",
    "ground = np.argmax(testy,axis=1)\n",
    "print(classification_report(ground,pred))"
   ]
  },
  {
   "cell_type": "code",
   "execution_count": 18,
   "id": "65091b17",
   "metadata": {
    "execution": {
     "iopub.execute_input": "2021-10-11T16:28:14.962136Z",
     "iopub.status.busy": "2021-10-11T16:28:14.961230Z",
     "iopub.status.idle": "2021-10-11T16:28:15.180595Z",
     "shell.execute_reply": "2021-10-11T16:28:15.181068Z",
     "shell.execute_reply.started": "2021-10-11T15:34:42.935094Z"
    },
    "papermill": {
     "duration": 3.040291,
     "end_time": "2021-10-11T16:28:15.181244",
     "exception": false,
     "start_time": "2021-10-11T16:28:12.140953",
     "status": "completed"
    },
    "tags": []
   },
   "outputs": [
    {
     "data": {
      "image/png": "[encoded data removed]",
      "text/plain": [
       "<Figure size 432x288 with 1 Axes>"
      ]
     },
     "metadata": {
      "needs_background": "light"
     },
     "output_type": "display_data"
    },
    {
     "data": {
      "text/plain": [
       "<Figure size 432x288 with 0 Axes>"
      ]
     },
     "metadata": {},
     "output_type": "display_data"
    }
   ],
   "source": [
    "get_acc = his.history['accuracy']\n",
    "value_acc = his.history['val_accuracy']\n",
    "get_loss = his.history['loss']\n",
    "validation_loss = his.history['val_loss']\n",
    "\n",
    "epochs = range(len(get_acc))\n",
    "plt.plot(epochs, get_acc, 'r', label='Accuracy of Training data')\n",
    "plt.plot(epochs, value_acc, 'b', label='Accuracy of Validation data')\n",
    "plt.title('Training vs validation accuracy')\n",
    "plt.legend(loc=0)\n",
    "plt.figure()\n",
    "plt.show()"
   ]
  },
  {
   "cell_type": "code",
   "execution_count": 19,
   "id": "8aada5d7",
   "metadata": {
    "execution": {
     "iopub.execute_input": "2021-10-11T16:28:20.665287Z",
     "iopub.status.busy": "2021-10-11T16:28:20.647061Z",
     "iopub.status.idle": "2021-10-11T16:28:20.860936Z",
     "shell.execute_reply": "2021-10-11T16:28:20.860184Z",
     "shell.execute_reply.started": "2021-10-11T15:34:43.221911Z"
    },
    "papermill": {
     "duration": 2.993819,
     "end_time": "2021-10-11T16:28:20.861077",
     "exception": false,
     "start_time": "2021-10-11T16:28:17.867258",
     "status": "completed"
    },
    "tags": []
   },
   "outputs": [
    {
     "data": {
      "image/png": "[encoded data removed]",
      "text/plain": [
       "<Figure size 432x288 with 1 Axes>"
      ]
     },
     "metadata": {
      "needs_background": "light"
     },
     "output_type": "display_data"
    },
    {
     "data": {
      "text/plain": [
       "<Figure size 432x288 with 0 Axes>"
      ]
     },
     "metadata": {},
     "output_type": "display_data"
    }
   ],
   "source": [
    "epochs = range(len(get_loss))\n",
    "plt.plot(epochs, get_loss, 'r', label='Loss of Training data')\n",
    "plt.plot(epochs, validation_loss, 'b', label='Loss of Validation data')\n",
    "plt.title('Training vs validation loss')\n",
    "plt.legend(loc=0)\n",
    "plt.figure()\n",
    "plt.show()"
   ]
  },
  {
   "cell_type": "code",
   "execution_count": 20,
   "id": "9375b23f",
   "metadata": {
    "execution": {
     "iopub.execute_input": "2021-10-11T16:28:26.243069Z",
     "iopub.status.busy": "2021-10-11T16:28:26.242414Z",
     "iopub.status.idle": "2021-10-11T16:28:26.247278Z",
     "shell.execute_reply": "2021-10-11T16:28:26.246787Z",
     "shell.execute_reply.started": "2021-10-11T15:34:43.474005Z"
    },
    "papermill": {
     "duration": 2.722964,
     "end_time": "2021-10-11T16:28:26.247458",
     "exception": false,
     "start_time": "2021-10-11T16:28:23.524494",
     "status": "completed"
    },
    "tags": []
   },
   "outputs": [],
   "source": [
    "#load_img('../input/indian-food-images-dataset/aloo_shimla_mirch/14be800ff7.jpg',target_size=(40,40))"
   ]
  },
  {
   "cell_type": "code",
   "execution_count": 21,
   "id": "738bdb33",
   "metadata": {
    "execution": {
     "iopub.execute_input": "2021-10-11T16:28:31.770655Z",
     "iopub.status.busy": "2021-10-11T16:28:31.770051Z",
     "iopub.status.idle": "2021-10-11T16:28:31.780856Z",
     "shell.execute_reply": "2021-10-11T16:28:31.781324Z",
     "shell.execute_reply.started": "2021-10-11T15:45:37.932610Z"
    },
    "papermill": {
     "duration": 2.79174,
     "end_time": "2021-10-11T16:28:31.781517",
     "exception": false,
     "start_time": "2021-10-11T16:28:28.989777",
     "status": "completed"
    },
    "tags": []
   },
   "outputs": [],
   "source": [
    "image=load_img('../input/indian-food-images-dataset/boondi/10d5997860.jpg',target_size=(40,40))\n",
    "image=img_to_array(image) \n",
    "image=image/255.0\n",
    "prediction_image=np.array(image)\n",
    "prediction_image= np.expand_dims(image, axis=0)"
   ]
  },
  {
   "cell_type": "code",
   "execution_count": 22,
   "id": "0cebb306",
   "metadata": {
    "execution": {
     "iopub.execute_input": "2021-10-11T16:28:37.223114Z",
     "iopub.status.busy": "2021-10-11T16:28:37.222557Z",
     "iopub.status.idle": "2021-10-11T16:28:40.304924Z",
     "shell.execute_reply": "2021-10-11T16:28:40.305606Z",
     "shell.execute_reply.started": "2021-10-11T15:45:38.298455Z"
    },
    "papermill": {
     "duration": 5.847481,
     "end_time": "2021-10-11T16:28:40.305834",
     "exception": false,
     "start_time": "2021-10-11T16:28:34.458353",
     "status": "completed"
    },
    "tags": []
   },
   "outputs": [
    {
     "name": "stdout",
     "output_type": "stream",
     "text": [
      "Prediction is boondi.\n"
     ]
    }
   ],
   "source": [
    "prediction=model.predict(prediction_image)\n",
    "value=np.argmax(prediction)\n",
    "move_name=mapper(value)\n",
    "print(\"Prediction is {}.\".format(move_name))"
   ]
  },
  {
   "cell_type": "code",
   "execution_count": 23,
   "id": "52e9e04a",
   "metadata": {
    "execution": {
     "iopub.execute_input": "2021-10-11T16:28:45.738763Z",
     "iopub.status.busy": "2021-10-11T16:28:45.738153Z",
     "iopub.status.idle": "2021-10-11T16:28:45.741136Z",
     "shell.execute_reply": "2021-10-11T16:28:45.741604Z",
     "shell.execute_reply.started": "2021-10-11T15:45:38.886841Z"
    },
    "papermill": {
     "duration": 2.711694,
     "end_time": "2021-10-11T16:28:45.741809",
     "exception": false,
     "start_time": "2021-10-11T16:28:43.030115",
     "status": "completed"
    },
    "tags": []
   },
   "outputs": [
    {
     "name": "stdout",
     "output_type": "stream",
     "text": [
      "2.4.0\n",
      "2.4.1\n"
     ]
    }
   ],
   "source": [
    "import tensorflow.keras as k\n",
    "import tensorflow as tf\n",
    "\n",
    "print(k.__version__)\n",
    "print(tf.__version__)"
   ]
  },
  {
   "cell_type": "code",
   "execution_count": 24,
   "id": "955490bc",
   "metadata": {
    "execution": {
     "iopub.execute_input": "2021-10-11T16:28:51.200359Z",
     "iopub.status.busy": "2021-10-11T16:28:51.199465Z",
     "iopub.status.idle": "2021-10-11T16:28:51.206881Z",
     "shell.execute_reply": "2021-10-11T16:28:51.206154Z",
     "shell.execute_reply.started": "2021-10-11T15:36:46.886022Z"
    },
    "papermill": {
     "duration": 2.762612,
     "end_time": "2021-10-11T16:28:51.207065",
     "exception": false,
     "start_time": "2021-10-11T16:28:48.444453",
     "status": "completed"
    },
    "tags": []
   },
   "outputs": [
    {
     "name": "stdout",
     "output_type": "stream",
     "text": [
      "Python version\n",
      "3.7.10 | packaged by conda-forge | (default, Feb 19 2021, 16:07:37) \n",
      "[GCC 9.3.0]\n",
      "Version info.\n",
      "sys.version_info(major=3, minor=7, micro=10, releaselevel='final', serial=0)\n"
     ]
    }
   ],
   "source": [
    "import sys\n",
    "print(\"Python version\")\n",
    "print (sys.version)\n",
    "print(\"Version info.\")\n",
    "print (sys.version_info)"
   ]
  },
  {
   "cell_type": "code",
   "execution_count": 25,
   "id": "f0e487c8",
   "metadata": {
    "execution": {
     "iopub.execute_input": "2021-10-11T16:28:56.676403Z",
     "iopub.status.busy": "2021-10-11T16:28:56.675818Z",
     "iopub.status.idle": "2021-10-11T16:28:57.810528Z",
     "shell.execute_reply": "2021-10-11T16:28:57.809944Z",
     "shell.execute_reply.started": "2021-10-11T15:37:00.595813Z"
    },
    "papermill": {
     "duration": 3.867975,
     "end_time": "2021-10-11T16:28:57.810687",
     "exception": false,
     "start_time": "2021-10-11T16:28:53.942712",
     "status": "completed"
    },
    "tags": []
   },
   "outputs": [],
   "source": [
    "model.save('IF.h5')"
   ]
  },
  {
   "cell_type": "code",
   "execution_count": null,
   "id": "c9c7beb5",
   "metadata": {
    "papermill": {
     "duration": 2.784618,
     "end_time": "2021-10-11T16:29:03.300515",
     "exception": false,
     "start_time": "2021-10-11T16:29:00.515897",
     "status": "completed"
    },
    "tags": []
   },
   "outputs": [],
   "source": []
  },
  {
   "cell_type": "code",
   "execution_count": null,
   "id": "742bc502",
   "metadata": {
    "papermill": {
     "duration": 2.719707,
     "end_time": "2021-10-11T16:29:08.716902",
     "exception": false,
     "start_time": "2021-10-11T16:29:05.997195",
     "status": "completed"
    },
    "tags": []
   },
   "outputs": [],
   "source": []
  }
 ],
 "metadata": {
  "kernelspec": {
   "display_name": "Python 3",
   "language": "python",
   "name": "python3"
  },
  "language_info": {
   "codemirror_mode": {
    "name": "ipython",
    "version": 3
   },
   "file_extension": ".py",
   "mimetype": "text/x-python",
   "name": "python",
   "nbconvert_exporter": "python",
   "pygments_lexer": "ipython3",
   "version": "3.7.10"
  },
  "papermill": {
   "default_parameters": {},
   "duration": 2506.603066,
   "end_time": "2021-10-11T16:29:14.792941",
   "environment_variables": {},
   "exception": null,
   "input_path": "__notebook__.ipynb",
   "output_path": "__notebook__.ipynb",
   "parameters": {},
   "start_time": "2021-10-11T15:47:28.189875",
   "version": "2.3.3"
  }
 },
 "nbformat": 4,
 "nbformat_minor": 5
}
